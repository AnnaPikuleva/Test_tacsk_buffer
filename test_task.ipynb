{
  "nbformat": 4,
  "nbformat_minor": 0,
  "metadata": {
    "colab": {
      "name": "test_task.ipynb",
      "provenance": [],
      "collapsed_sections": [],
      "authorship_tag": "ABX9TyMgjJeiy0nrokKjHp5awF+5",
      "include_colab_link": true
    },
    "kernelspec": {
      "name": "python3",
      "display_name": "Python 3"
    },
    "language_info": {
      "name": "python"
    }
  },
  "cells": [
    {
      "cell_type": "markdown",
      "metadata": {
        "id": "view-in-github",
        "colab_type": "text"
      },
      "source": [
        "<a href=\"https://colab.research.google.com/github/AnnaPikuleva/Test_tacsk_buffer/blob/main/test_task.ipynb\" target=\"_parent\"><img src=\"https://colab.research.google.com/assets/colab-badge.svg\" alt=\"Open In Colab\"/></a>"
      ]
    },
    {
      "cell_type": "markdown",
      "source": [
        "Загрузить 2 набора точечных данных OSM, например, здания и poi на адекватную по размеру территорию. Построить буферную зону радиусом 500 м вокруг одного набора и, создав новое поле в этом первом наборе, записать в него, сколько точек из второго набора попадает в буфер.\n"
      ],
      "metadata": {
        "id": "VbcNjhNwf1sX"
      }
    },
    {
      "cell_type": "code",
      "execution_count": null,
      "metadata": {
        "id": "g4fag2ADf1Gk"
      },
      "outputs": [],
      "source": [
        "import matplotlib.pyplot as plt\n",
        "plt.style.use('dark_background')"
      ]
    },
    {
      "cell_type": "code",
      "source": [
        "pip install pyrosm"
      ],
      "metadata": {
        "id": "kcUl3D9TgF5O"
      },
      "execution_count": null,
      "outputs": []
    },
    {
      "cell_type": "code",
      "source": [
        "pip install matplotlib==3.1.3 "
      ],
      "metadata": {
        "id": "Z8WxmsgLgG-R"
      },
      "execution_count": null,
      "outputs": []
    },
    {
      "cell_type": "code",
      "source": [
        "pip install geopandas"
      ],
      "metadata": {
        "id": "MyykJXusgIjS"
      },
      "execution_count": null,
      "outputs": []
    },
    {
      "cell_type": "code",
      "source": [
        "pip install osmnx"
      ],
      "metadata": {
        "id": "eIiRjkkpgJw3"
      },
      "execution_count": null,
      "outputs": []
    },
    {
      "cell_type": "code",
      "source": [
        "import geopandas as gpd\n",
        "import pandas\n",
        "import numpy as np\n",
        "import osmnx as ox\n",
        "from shapely.geometry import Point, LineString, Polygon"
      ],
      "metadata": {
        "id": "JRBI6tkwgf3z"
      },
      "execution_count": null,
      "outputs": []
    },
    {
      "cell_type": "markdown",
      "source": [
        "Район для выборки - Васильевский остров"
      ],
      "metadata": {
        "id": "-O3RWNOw_X1K"
      }
    },
    {
      "cell_type": "code",
      "source": [
        "place = 'Василеостровский район,Санкт-Петербург,Россия'"
      ],
      "metadata": {
        "id": "K2j4cCXrgnxa"
      },
      "execution_count": null,
      "outputs": []
    },
    {
      "cell_type": "code",
      "source": [
        "UTM_zone = 32636"
      ],
      "metadata": {
        "id": "ejJV8KUcihX0"
      },
      "execution_count": null,
      "outputs": []
    },
    {
      "cell_type": "markdown",
      "source": [
        "Скачиваемся супермаркеты"
      ],
      "metadata": {
        "id": "x087SiDEAZid"
      }
    },
    {
      "cell_type": "code",
      "source": [
        "tags = {\"shop\": \"supermarket\"}\n",
        "supermarket = ox.geometries_from_place(place, tags)\n",
        "supermarket = supermarket.to_crs(32636)\n",
        "supermarket.reset_index(inplace=True)\n",
        "supermarket = supermarket[['osmid','geometry','alt_name:ru']]\n",
        "supermarket['geometry'] = supermarket['geometry'].centroid.buffer(500)\n",
        "supermarket[['osmid','geometry']]\n",
        "type(supermarket)"
      ],
      "metadata": {
        "colab": {
          "base_uri": "https://localhost:8080/"
        },
        "id": "QLnPtXKIgxBn",
        "outputId": "01f9e214-01f4-47e5-8a4b-dbbdf4ca216d"
      },
      "execution_count": null,
      "outputs": [
        {
          "output_type": "execute_result",
          "data": {
            "text/plain": [
              "geopandas.geodataframe.GeoDataFrame"
            ]
          },
          "metadata": {},
          "execution_count": 292
        }
      ]
    },
    {
      "cell_type": "code",
      "source": [
        "supermarket.plot()"
      ],
      "metadata": {
        "colab": {
          "base_uri": "https://localhost:8080/",
          "height": 294
        },
        "id": "9hLcxKgZiRaw",
        "outputId": "add446d5-cd92-403f-944a-b7812b136582"
      },
      "execution_count": null,
      "outputs": [
        {
          "output_type": "execute_result",
          "data": {
            "text/plain": [
              "<matplotlib.axes._subplots.AxesSubplot at 0x7f92be228290>"
            ]
          },
          "metadata": {},
          "execution_count": 293
        },
        {
          "output_type": "display_data",
          "data": {
            "text/plain": [
              "<Figure size 432x288 with 1 Axes>"
            ],
            "image/png": "[encoded data removed]"
          },
          "metadata": {
            "needs_background": "dark"
          }
        }
      ]
    },
    {
      "cell_type": "markdown",
      "source": [
        "Скачиваем жилые дома"
      ],
      "metadata": {
        "id": "P2TzBAyFAiNk"
      }
    },
    {
      "cell_type": "code",
      "source": [
        "tags = {\"building\": \"apartments\"}\n",
        "apartments = ox.geometries_from_place(place, tags)\n",
        "apartments = apartments.to_crs(UTM_zone)\n",
        "apartments.reset_index(inplace=True)\n",
        "apartments['geometry'] = apartments['geometry'].centroid\n",
        "apartments.rename(columns = {'osmid' : 'id'}, inplace = True) \n",
        "apartments = apartments[['id','geometry']]\n",
        "type(apartments)"
      ],
      "metadata": {
        "colab": {
          "base_uri": "https://localhost:8080/"
        },
        "id": "L7rZjPw6hpSG",
        "outputId": "f6d8b8dd-b029-4d40-bc28-72ac7f564595"
      },
      "execution_count": null,
      "outputs": [
        {
          "output_type": "stream",
          "name": "stderr",
          "text": [
            "/usr/local/lib/python3.7/dist-packages/osmnx/geometries.py:805: ShapelyDeprecationWarning: Iteration over multi-part geometries is deprecated and will be removed in Shapely 2.0. Use the `geoms` property to access the constituent parts of a multi-part geometry.\n",
            "  for merged_outer_linestring in list(merged_outer_linestrings):\n",
            "/usr/local/lib/python3.7/dist-packages/osmnx/geometries.py:805: ShapelyDeprecationWarning: __len__ for multi-part geometries is deprecated and will be removed in Shapely 2.0. Check the length of the `geoms` property instead to get the  number of parts of a multi-part geometry.\n",
            "  for merged_outer_linestring in list(merged_outer_linestrings):\n"
          ]
        },
        {
          "output_type": "execute_result",
          "data": {
            "text/plain": [
              "geopandas.geodataframe.GeoDataFrame"
            ]
          },
          "metadata": {},
          "execution_count": 294
        }
      ]
    },
    {
      "cell_type": "code",
      "source": [
        "apartments.plot()"
      ],
      "metadata": {
        "colab": {
          "base_uri": "https://localhost:8080/",
          "height": 294
        },
        "id": "ergRSIq4ivjV",
        "outputId": "8f5b850e-2674-4b13-fb7c-963f169ddbb9"
      },
      "execution_count": null,
      "outputs": [
        {
          "output_type": "execute_result",
          "data": {
            "text/plain": [
              "<matplotlib.axes._subplots.AxesSubplot at 0x7f92bced1690>"
            ]
          },
          "metadata": {},
          "execution_count": 295
        },
        {
          "output_type": "display_data",
          "data": {
            "text/plain": [
              "<Figure size 432x288 with 1 Axes>"
            ],
            "image/png": "[encoded data removed]"
          },
          "metadata": {
            "needs_background": "dark"
          }
        }
      ]
    },
    {
      "cell_type": "markdown",
      "source": [
        "Соединяем данные"
      ],
      "metadata": {
        "id": "bylLU30qA0fR"
      }
    },
    {
      "cell_type": "code",
      "source": [
        "itog = gpd.sjoin(apartments, supermarket[['osmid','geometry']], how='left', op='intersects')"
      ],
      "metadata": {
        "colab": {
          "base_uri": "https://localhost:8080/"
        },
        "id": "bQ6-mLn6oLmU",
        "outputId": "67a45b77-880f-4b3d-c779-96316136637e"
      },
      "execution_count": null,
      "outputs": [
        {
          "output_type": "stream",
          "name": "stderr",
          "text": [
            "/usr/local/lib/python3.7/dist-packages/IPython/core/interactiveshell.py:2822: FutureWarning: The `op` parameter is deprecated and will be removed in a future release. Please use the `predicate` parameter instead.\n",
            "  if self.run_code(code, result):\n"
          ]
        }
      ]
    },
    {
      "cell_type": "code",
      "source": [
        "itog"
      ],
      "metadata": {
        "colab": {
          "base_uri": "https://localhost:8080/",
          "height": 423
        },
        "id": "09Ck7eli9zXN",
        "outputId": "8f5b31f0-985d-44bf-d796-d43f121835b7"
      },
      "execution_count": null,
      "outputs": [
        {
          "output_type": "execute_result",
          "data": {
            "text/plain": [
              "           id                        geometry  index_right         osmid\n",
              "0    16092801  POINT (345498.605 6649059.978)         33.0  3.929674e+09\n",
              "0    16092801  POINT (345498.605 6649059.978)         42.0  5.148471e+09\n",
              "0    16092801  POINT (345498.605 6649059.978)         57.0  7.961225e+09\n",
              "0    16092801  POINT (345498.605 6649059.978)          3.0  8.251529e+08\n",
              "0    16092801  POINT (345498.605 6649059.978)         56.0  7.468697e+09\n",
              "..        ...                             ...          ...           ...\n",
              "621  12854908  POINT (343545.161 6647669.106)         48.0  6.451273e+09\n",
              "622  12854912  POINT (343468.592 6647762.724)         65.0  8.909143e+09\n",
              "622  12854912  POINT (343468.592 6647762.724)         48.0  6.451273e+09\n",
              "623  12858141  POINT (343635.646 6647921.579)         65.0  8.909143e+09\n",
              "623  12858141  POINT (343635.646 6647921.579)         48.0  6.451273e+09\n",
              "\n",
              "[3288 rows x 4 columns]"
            ],
            "text/html": [
              "\n",
              "  <div id=\"df-4a54d35c-ddcd-40e1-9574-4641c9c447d3\">\n",
              "    <div class=\"colab-df-container\">\n",
              "      <div>\n",
              "<style scoped>\n",
              "    .dataframe tbody tr th:only-of-type {\n",
              "        vertical-align: middle;\n",
              "    }\n",
              "\n",
              "    .dataframe tbody tr th {\n",
              "        vertical-align: top;\n",
              "    }\n",
              "\n",
              "    .dataframe thead th {\n",
              "        text-align: right;\n",
              "    }\n",
              "</style>\n",
              "<table border=\"1\" class=\"dataframe\">\n",
              "  <thead>\n",
              "    <tr style=\"text-align: right;\">\n",
              "      <th></th>\n",
              "      <th>id</th>\n",
              "      <th>geometry</th>\n",
              "      <th>index_right</th>\n",
              "      <th>osmid</th>\n",
              "    </tr>\n",
              "  </thead>\n",
              "  <tbody>\n",
              "    <tr>\n",
              "      <th>0</th>\n",
              "      <td>16092801</td>\n",
              "      <td>POINT (345498.605 6649059.978)</td>\n",
              "      <td>33.0</td>\n",
              "      <td>3.929674e+09</td>\n",
              "    </tr>\n",
              "    <tr>\n",
              "      <th>0</th>\n",
              "      <td>16092801</td>\n",
              "      <td>POINT (345498.605 6649059.978)</td>\n",
              "      <td>42.0</td>\n",
              "      <td>5.148471e+09</td>\n",
              "    </tr>\n",
              "    <tr>\n",
              "      <th>0</th>\n",
              "      <td>16092801</td>\n",
              "      <td>POINT (345498.605 6649059.978)</td>\n",
              "      <td>57.0</td>\n",
              "      <td>7.961225e+09</td>\n",
              "    </tr>\n",
              "    <tr>\n",
              "      <th>0</th>\n",
              "      <td>16092801</td>\n",
              "      <td>POINT (345498.605 6649059.978)</td>\n",
              "      <td>3.0</td>\n",
              "      <td>8.251529e+08</td>\n",
              "    </tr>\n",
              "    <tr>\n",
              "      <th>0</th>\n",
              "      <td>16092801</td>\n",
              "      <td>POINT (345498.605 6649059.978)</td>\n",
              "      <td>56.0</td>\n",
              "      <td>7.468697e+09</td>\n",
              "    </tr>\n",
              "    <tr>\n",
              "      <th>...</th>\n",
              "      <td>...</td>\n",
              "      <td>...</td>\n",
              "      <td>...</td>\n",
              "      <td>...</td>\n",
              "    </tr>\n",
              "    <tr>\n",
              "      <th>621</th>\n",
              "      <td>12854908</td>\n",
              "      <td>POINT (343545.161 6647669.106)</td>\n",
              "      <td>48.0</td>\n",
              "      <td>6.451273e+09</td>\n",
              "    </tr>\n",
              "    <tr>\n",
              "      <th>622</th>\n",
              "      <td>12854912</td>\n",
              "      <td>POINT (343468.592 6647762.724)</td>\n",
              "      <td>65.0</td>\n",
              "      <td>8.909143e+09</td>\n",
              "    </tr>\n",
              "    <tr>\n",
              "      <th>622</th>\n",
              "      <td>12854912</td>\n",
              "      <td>POINT (343468.592 6647762.724)</td>\n",
              "      <td>48.0</td>\n",
              "      <td>6.451273e+09</td>\n",
              "    </tr>\n",
              "    <tr>\n",
              "      <th>623</th>\n",
              "      <td>12858141</td>\n",
              "      <td>POINT (343635.646 6647921.579)</td>\n",
              "      <td>65.0</td>\n",
              "      <td>8.909143e+09</td>\n",
              "    </tr>\n",
              "    <tr>\n",
              "      <th>623</th>\n",
              "      <td>12858141</td>\n",
              "      <td>POINT (343635.646 6647921.579)</td>\n",
              "      <td>48.0</td>\n",
              "      <td>6.451273e+09</td>\n",
              "    </tr>\n",
              "  </tbody>\n",
              "</table>\n",
              "<p>3288 rows × 4 columns</p>\n",
              "</div>\n",
              "      <button class=\"colab-df-convert\" onclick=\"convertToInteractive('df-4a54d35c-ddcd-40e1-9574-4641c9c447d3')\"\n",
              "              title=\"Convert this dataframe to an interactive table.\"\n",
              "              style=\"display:none;\">\n",
              "        \n",
              "  <svg xmlns=\"http://www.w3.org/2000/svg\" height=\"24px\"viewBox=\"0 0 24 24\"\n",
              "       width=\"24px\">\n",
              "    <path d=\"M0 0h24v24H0V0z\" fill=\"none\"/>\n",
              "    <path d=\"M18.56 5.44l.94 2.06.94-2.06 2.06-.94-2.06-.94-.94-2.06-.94 2.06-2.06.94zm-11 1L8.5 8.5l.94-2.06 2.06-.94-2.06-.94L8.5 2.5l-.94 2.06-2.06.94zm10 10l.94 2.06.94-2.06 2.06-.94-2.06-.94-.94-2.06-.94 2.06-2.06.94z\"/><path d=\"M17.41 7.96l-1.37-1.37c-.4-.4-.92-.59-1.43-.59-.52 0-1.04.2-1.43.59L10.3 9.45l-7.72 7.72c-.78.78-.78 2.05 0 2.83L4 21.41c.39.39.9.59 1.41.59.51 0 1.02-.2 1.41-.59l7.78-7.78 2.81-2.81c.8-.78.8-2.07 0-2.86zM5.41 20L4 18.59l7.72-7.72 1.47 1.35L5.41 20z\"/>\n",
              "  </svg>\n",
              "      </button>\n",
              "      \n",
              "  <style>\n",
              "    .colab-df-container {\n",
              "      display:flex;\n",
              "      flex-wrap:wrap;\n",
              "      gap: 12px;\n",
              "    }\n",
              "\n",
              "    .colab-df-convert {\n",
              "      background-color: #E8F0FE;\n",
              "      border: none;\n",
              "      border-radius: 50%;\n",
              "      cursor: pointer;\n",
              "      display: none;\n",
              "      fill: #1967D2;\n",
              "      height: 32px;\n",
              "      padding: 0 0 0 0;\n",
              "      width: 32px;\n",
              "    }\n",
              "\n",
              "    .colab-df-convert:hover {\n",
              "      background-color: #E2EBFA;\n",
              "      box-shadow: 0px 1px 2px rgba(60, 64, 67, 0.3), 0px 1px 3px 1px rgba(60, 64, 67, 0.15);\n",
              "      fill: #174EA6;\n",
              "    }\n",
              "\n",
              "    [theme=dark] .colab-df-convert {\n",
              "      background-color: #3B4455;\n",
              "      fill: #D2E3FC;\n",
              "    }\n",
              "\n",
              "    [theme=dark] .colab-df-convert:hover {\n",
              "      background-color: #434B5C;\n",
              "      box-shadow: 0px 1px 3px 1px rgba(0, 0, 0, 0.15);\n",
              "      filter: drop-shadow(0px 1px 2px rgba(0, 0, 0, 0.3));\n",
              "      fill: #FFFFFF;\n",
              "    }\n",
              "  </style>\n",
              "\n",
              "      <script>\n",
              "        const buttonEl =\n",
              "          document.querySelector('#df-4a54d35c-ddcd-40e1-9574-4641c9c447d3 button.colab-df-convert');\n",
              "        buttonEl.style.display =\n",
              "          google.colab.kernel.accessAllowed ? 'block' : 'none';\n",
              "\n",
              "        async function convertToInteractive(key) {\n",
              "          const element = document.querySelector('#df-4a54d35c-ddcd-40e1-9574-4641c9c447d3');\n",
              "          const dataTable =\n",
              "            await google.colab.kernel.invokeFunction('convertToInteractive',\n",
              "                                                     [key], {});\n",
              "          if (!dataTable) return;\n",
              "\n",
              "          const docLinkHtml = 'Like what you see? Visit the ' +\n",
              "            '<a target=\"_blank\" href=https://colab.research.google.com/notebooks/data_table.ipynb>data table notebook</a>'\n",
              "            + ' to learn more about interactive tables.';\n",
              "          element.innerHTML = '';\n",
              "          dataTable['output_type'] = 'display_data';\n",
              "          await google.colab.output.renderOutput(dataTable, element);\n",
              "          const docLink = document.createElement('div');\n",
              "          docLink.innerHTML = docLinkHtml;\n",
              "          element.appendChild(docLink);\n",
              "        }\n",
              "      </script>\n",
              "    </div>\n",
              "  </div>\n",
              "  "
            ]
          },
          "metadata": {},
          "execution_count": 297
        }
      ]
    },
    {
      "cell_type": "markdown",
      "source": [
        "osmid - id супермаркетов, поэтому группируем по этому полю "
      ],
      "metadata": {
        "id": "knlA_prSCjzP"
      }
    },
    {
      "cell_type": "code",
      "source": [
        "df = itog.groupby(['osmid']).count()"
      ],
      "metadata": {
        "id": "XhimvRn6-XF1"
      },
      "execution_count": null,
      "outputs": []
    },
    {
      "cell_type": "code",
      "source": [
        "df['id']"
      ],
      "metadata": {
        "colab": {
          "base_uri": "https://localhost:8080/"
        },
        "id": "e5LNVTE9-edB",
        "outputId": "aab7b3f2-d3e5-4d12-f7c0-35d3047fe985"
      },
      "execution_count": null,
      "outputs": [
        {
          "output_type": "execute_result",
          "data": {
            "text/plain": [
              "osmid\n",
              "1.696013e+07    38\n",
              "3.079552e+07    21\n",
              "6.526994e+08    18\n",
              "7.773492e+08    65\n",
              "7.915530e+08    82\n",
              "                ..\n",
              "8.825748e+09    59\n",
              "8.898735e+09    55\n",
              "8.909143e+09    12\n",
              "8.911484e+09    44\n",
              "9.310464e+09    28\n",
              "Name: id, Length: 76, dtype: int64"
            ]
          },
          "metadata": {},
          "execution_count": 299
        }
      ]
    },
    {
      "cell_type": "code",
      "source": [
        "supermarket = supermarket.merge(df['id'],on='osmid',how='left')"
      ],
      "metadata": {
        "id": "zx2ehJqY-rQL"
      },
      "execution_count": null,
      "outputs": []
    },
    {
      "cell_type": "code",
      "source": [
        "supermarket.rename(columns = {'id' : 'number_of_house'}, inplace = True) "
      ],
      "metadata": {
        "id": "dz2vKoaLCo10"
      },
      "execution_count": null,
      "outputs": []
    },
    {
      "cell_type": "code",
      "source": [
        "supermarket"
      ],
      "metadata": {
        "colab": {
          "base_uri": "https://localhost:8080/",
          "height": 641
        },
        "id": "2zhVEMyeC8vf",
        "outputId": "d89f4807-6cbd-4c87-8001-2f390d75037e"
      },
      "execution_count": null,
      "outputs": [
        {
          "output_type": "execute_result",
          "data": {
            "text/plain": [
              "         osmid                                           geometry alt_name:ru  \\\n",
              "0    652699378  POLYGON ((348020.086 6647280.496, 348017.678 6...   Пятерочка   \n",
              "1    791553037  POLYGON ((346238.405 6647092.763, 346235.998 6...         NaN   \n",
              "2    825152797  POLYGON ((345054.800 6649330.330, 345052.393 6...   Пятерочка   \n",
              "3    825152923  POLYGON ((345759.838 6648992.649, 345757.431 6...   Пятерочка   \n",
              "4    841443848  POLYGON ((346020.021 6648326.025, 346017.613 6...         NaN   \n",
              "..         ...                                                ...         ...   \n",
              "71   823865756  POLYGON ((348575.991 6647740.666, 348573.583 6...         NaN   \n",
              "72   977040751  POLYGON ((348106.625 6648116.305, 348104.218 6...   Пятерочка   \n",
              "73  1031310102  POLYGON ((348807.689 6647710.854, 348805.281 6...         NaN   \n",
              "74  1052464573  POLYGON ((348773.936 6648389.516, 348771.529 6...         NaN   \n",
              "75  1054469953  POLYGON ((348856.643 6647898.050, 348854.235 6...         NaN   \n",
              "\n",
              "    number_of_house  \n",
              "0                18  \n",
              "1                82  \n",
              "2                25  \n",
              "3                28  \n",
              "4                56  \n",
              "..              ...  \n",
              "71               48  \n",
              "72               78  \n",
              "73               52  \n",
              "74               52  \n",
              "75               62  \n",
              "\n",
              "[76 rows x 4 columns]"
            ],
            "text/html": [
              "\n",
              "  <div id=\"df-8efdf388-164a-4be7-b1c3-d051c3a85534\">\n",
              "    <div class=\"colab-df-container\">\n",
              "      <div>\n",
              "<style scoped>\n",
              "    .dataframe tbody tr th:only-of-type {\n",
              "        vertical-align: middle;\n",
              "    }\n",
              "\n",
              "    .dataframe tbody tr th {\n",
              "        vertical-align: top;\n",
              "    }\n",
              "\n",
              "    .dataframe thead th {\n",
              "        text-align: right;\n",
              "    }\n",
              "</style>\n",
              "<table border=\"1\" class=\"dataframe\">\n",
              "  <thead>\n",
              "    <tr style=\"text-align: right;\">\n",
              "      <th></th>\n",
              "      <th>osmid</th>\n",
              "      <th>geometry</th>\n",
              "      <th>alt_name:ru</th>\n",
              "      <th>number_of_house</th>\n",
              "    </tr>\n",
              "  </thead>\n",
              "  <tbody>\n",
              "    <tr>\n",
              "      <th>0</th>\n",
              "      <td>652699378</td>\n",
              "      <td>POLYGON ((348020.086 6647280.496, 348017.678 6...</td>\n",
              "      <td>Пятерочка</td>\n",
              "      <td>18</td>\n",
              "    </tr>\n",
              "    <tr>\n",
              "      <th>1</th>\n",
              "      <td>791553037</td>\n",
              "      <td>POLYGON ((346238.405 6647092.763, 346235.998 6...</td>\n",
              "      <td>NaN</td>\n",
              "      <td>82</td>\n",
              "    </tr>\n",
              "    <tr>\n",
              "      <th>2</th>\n",
              "      <td>825152797</td>\n",
              "      <td>POLYGON ((345054.800 6649330.330, 345052.393 6...</td>\n",
              "      <td>Пятерочка</td>\n",
              "      <td>25</td>\n",
              "    </tr>\n",
              "    <tr>\n",
              "      <th>3</th>\n",
              "      <td>825152923</td>\n",
              "      <td>POLYGON ((345759.838 6648992.649, 345757.431 6...</td>\n",
              "      <td>Пятерочка</td>\n",
              "      <td>28</td>\n",
              "    </tr>\n",
              "    <tr>\n",
              "      <th>4</th>\n",
              "      <td>841443848</td>\n",
              "      <td>POLYGON ((346020.021 6648326.025, 346017.613 6...</td>\n",
              "      <td>NaN</td>\n",
              "      <td>56</td>\n",
              "    </tr>\n",
              "    <tr>\n",
              "      <th>...</th>\n",
              "      <td>...</td>\n",
              "      <td>...</td>\n",
              "      <td>...</td>\n",
              "      <td>...</td>\n",
              "    </tr>\n",
              "    <tr>\n",
              "      <th>71</th>\n",
              "      <td>823865756</td>\n",
              "      <td>POLYGON ((348575.991 6647740.666, 348573.583 6...</td>\n",
              "      <td>NaN</td>\n",
              "      <td>48</td>\n",
              "    </tr>\n",
              "    <tr>\n",
              "      <th>72</th>\n",
              "      <td>977040751</td>\n",
              "      <td>POLYGON ((348106.625 6648116.305, 348104.218 6...</td>\n",
              "      <td>Пятерочка</td>\n",
              "      <td>78</td>\n",
              "    </tr>\n",
              "    <tr>\n",
              "      <th>73</th>\n",
              "      <td>1031310102</td>\n",
              "      <td>POLYGON ((348807.689 6647710.854, 348805.281 6...</td>\n",
              "      <td>NaN</td>\n",
              "      <td>52</td>\n",
              "    </tr>\n",
              "    <tr>\n",
              "      <th>74</th>\n",
              "      <td>1052464573</td>\n",
              "      <td>POLYGON ((348773.936 6648389.516, 348771.529 6...</td>\n",
              "      <td>NaN</td>\n",
              "      <td>52</td>\n",
              "    </tr>\n",
              "    <tr>\n",
              "      <th>75</th>\n",
              "      <td>1054469953</td>\n",
              "      <td>POLYGON ((348856.643 6647898.050, 348854.235 6...</td>\n",
              "      <td>NaN</td>\n",
              "      <td>62</td>\n",
              "    </tr>\n",
              "  </tbody>\n",
              "</table>\n",
              "<p>76 rows × 4 columns</p>\n",
              "</div>\n",
              "      <button class=\"colab-df-convert\" onclick=\"convertToInteractive('df-8efdf388-164a-4be7-b1c3-d051c3a85534')\"\n",
              "              title=\"Convert this dataframe to an interactive table.\"\n",
              "              style=\"display:none;\">\n",
              "        \n",
              "  <svg xmlns=\"http://www.w3.org/2000/svg\" height=\"24px\"viewBox=\"0 0 24 24\"\n",
              "       width=\"24px\">\n",
              "    <path d=\"M0 0h24v24H0V0z\" fill=\"none\"/>\n",
              "    <path d=\"M18.56 5.44l.94 2.06.94-2.06 2.06-.94-2.06-.94-.94-2.06-.94 2.06-2.06.94zm-11 1L8.5 8.5l.94-2.06 2.06-.94-2.06-.94L8.5 2.5l-.94 2.06-2.06.94zm10 10l.94 2.06.94-2.06 2.06-.94-2.06-.94-.94-2.06-.94 2.06-2.06.94z\"/><path d=\"M17.41 7.96l-1.37-1.37c-.4-.4-.92-.59-1.43-.59-.52 0-1.04.2-1.43.59L10.3 9.45l-7.72 7.72c-.78.78-.78 2.05 0 2.83L4 21.41c.39.39.9.59 1.41.59.51 0 1.02-.2 1.41-.59l7.78-7.78 2.81-2.81c.8-.78.8-2.07 0-2.86zM5.41 20L4 18.59l7.72-7.72 1.47 1.35L5.41 20z\"/>\n",
              "  </svg>\n",
              "      </button>\n",
              "      \n",
              "  <style>\n",
              "    .colab-df-container {\n",
              "      display:flex;\n",
              "      flex-wrap:wrap;\n",
              "      gap: 12px;\n",
              "    }\n",
              "\n",
              "    .colab-df-convert {\n",
              "      background-color: #E8F0FE;\n",
              "      border: none;\n",
              "      border-radius: 50%;\n",
              "      cursor: pointer;\n",
              "      display: none;\n",
              "      fill: #1967D2;\n",
              "      height: 32px;\n",
              "      padding: 0 0 0 0;\n",
              "      width: 32px;\n",
              "    }\n",
              "\n",
              "    .colab-df-convert:hover {\n",
              "      background-color: #E2EBFA;\n",
              "      box-shadow: 0px 1px 2px rgba(60, 64, 67, 0.3), 0px 1px 3px 1px rgba(60, 64, 67, 0.15);\n",
              "      fill: #174EA6;\n",
              "    }\n",
              "\n",
              "    [theme=dark] .colab-df-convert {\n",
              "      background-color: #3B4455;\n",
              "      fill: #D2E3FC;\n",
              "    }\n",
              "\n",
              "    [theme=dark] .colab-df-convert:hover {\n",
              "      background-color: #434B5C;\n",
              "      box-shadow: 0px 1px 3px 1px rgba(0, 0, 0, 0.15);\n",
              "      filter: drop-shadow(0px 1px 2px rgba(0, 0, 0, 0.3));\n",
              "      fill: #FFFFFF;\n",
              "    }\n",
              "  </style>\n",
              "\n",
              "      <script>\n",
              "        const buttonEl =\n",
              "          document.querySelector('#df-8efdf388-164a-4be7-b1c3-d051c3a85534 button.colab-df-convert');\n",
              "        buttonEl.style.display =\n",
              "          google.colab.kernel.accessAllowed ? 'block' : 'none';\n",
              "\n",
              "        async function convertToInteractive(key) {\n",
              "          const element = document.querySelector('#df-8efdf388-164a-4be7-b1c3-d051c3a85534');\n",
              "          const dataTable =\n",
              "            await google.colab.kernel.invokeFunction('convertToInteractive',\n",
              "                                                     [key], {});\n",
              "          if (!dataTable) return;\n",
              "\n",
              "          const docLinkHtml = 'Like what you see? Visit the ' +\n",
              "            '<a target=\"_blank\" href=https://colab.research.google.com/notebooks/data_table.ipynb>data table notebook</a>'\n",
              "            + ' to learn more about interactive tables.';\n",
              "          element.innerHTML = '';\n",
              "          dataTable['output_type'] = 'display_data';\n",
              "          await google.colab.output.renderOutput(dataTable, element);\n",
              "          const docLink = document.createElement('div');\n",
              "          docLink.innerHTML = docLinkHtml;\n",
              "          element.appendChild(docLink);\n",
              "        }\n",
              "      </script>\n",
              "    </div>\n",
              "  </div>\n",
              "  "
            ]
          },
          "metadata": {},
          "execution_count": 302
        }
      ]
    }
  ]
}